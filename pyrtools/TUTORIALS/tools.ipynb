{
 "cells": [
  {
   "cell_type": "markdown",
   "metadata": {},
   "source": [
    "# under construction"
   ]
  },
  {
   "cell_type": "code",
   "execution_count": null,
   "metadata": {
    "collapsed": true
   },
   "outputs": [],
   "source": [
    "import pyrtools as ppt\n",
    "# import pyrtools.JBhelpers as jbh\n",
    "import matplotlib.pyplot as plt\n",
    "%matplotlib inline"
   ]
  },
  {
   "cell_type": "markdown",
   "metadata": {},
   "source": [
    "Some examples using the tools in this distribution.\n",
    "Contents\n",
    "\n",
    "    - Load an image, and downsample to a size appropriate for the machine speed.\n",
    "    - Synthetic images.\n",
    "    - Point operations (lookup tables):\n",
    "    - histogram Modification/matching:\n",
    "    - Convolution routines:\n",
    "    - Compare speed of convolution/downsampling routines:\n",
    "    - Display image and extension of left and top boundaries\n",
    "    \n",
    "    - see Tutorial/pyramids.ipynb\n",
    "            Multi-scale pyramids\n",
    "            A Laplacian pyramid:\n",
    "            Wavelet/QMF pyramids:\n",
    "            Steerable pyramid:\n",
    "            Steerable pyramid, constructed in frequency domain:"
   ]
  },
  {
   "cell_type": "markdown",
   "metadata": {},
   "source": [
    "Load an image, and downsample to a size appropriate for the machine speed."
   ]
  },
  {
   "cell_type": "code",
   "execution_count": null,
   "metadata": {
    "collapsed": true
   },
   "outputs": [],
   "source": [
    "oim = pgmRead('einstein.pgm');\n",
    "tic; corrDn(oim,[1 1; 1 1]/4,'reflect1',[2 2]); time = toc;\n",
    "imSubSample = min(max(floor(log2(time)/2+3),0),2);\n",
    "im = blurDn(oim, imSubSample,'qmf9');\n",
    "clear oim;"
   ]
  },
  {
   "cell_type": "markdown",
   "metadata": {},
   "source": [
    "ShowIm: 3 types of automatic graylevel scaling, 2 types of automatic sizing, with or without title and Range information."
   ]
  },
  {
   "cell_type": "code",
   "execution_count": null,
   "metadata": {
    "collapsed": true
   },
   "outputs": [],
   "source": [
    "? showIm"
   ]
  },
  {
   "cell_type": "code",
   "execution_count": null,
   "metadata": {
    "collapsed": true
   },
   "outputs": [],
   "source": [
    "showIm(im,'auto1','auto','Al')"
   ]
  },
  {
   "cell_type": "code",
   "execution_count": null,
   "metadata": {
    "collapsed": true
   },
   "outputs": [],
   "source": [
    "showIm('im','auto2')"
   ]
  },
  {
   "cell_type": "code",
   "execution_count": null,
   "metadata": {
    "collapsed": true
   },
   "outputs": [],
   "source": [
    "showIm(im,'auto3',2)"
   ]
  },
  {
   "cell_type": "markdown",
   "metadata": {},
   "source": [
    " Statistics:"
   ]
  },
  {
   "cell_type": "code",
   "execution_count": null,
   "metadata": {
    "collapsed": true
   },
   "outputs": [],
   "source": [
    "imStats(im)"
   ]
  },
  {
   "cell_type": "markdown",
   "metadata": {},
   "source": [
    "Synthetic images."
   ]
  },
  {
   "cell_type": "code",
   "execution_count": null,
   "metadata": {
    "collapsed": true
   },
   "outputs": [],
   "source": [
    "# pick some parameters\n",
    "size      = 256\n",
    "direction = 2 * np.pi * np.random.rand(1)\n",
    "slope     = 10 * np.random.rand(1) - 5\n",
    "intercept = 10 * np.random.rand(1) - 5\n",
    "origin    = round(1 + (size - 1) * np.random.rand(2,1))\n",
    "exponent  = 0.8 + np.random.rand(1)\n",
    "amplitude = 1 + 5 * np.random.rand(1)\n",
    "phase     = 2 * np.pi * np.random.rand(1)\n",
    "period    = 20\n",
    "twidth    = 7"
   ]
  },
  {
   "cell_type": "code",
   "execution_count": null,
   "metadata": {
    "collapsed": true
   },
   "outputs": [],
   "source": [
    "showIm(mkRamp(size, direction, slope, intercept, origin))"
   ]
  },
  {
   "cell_type": "code",
   "execution_count": null,
   "metadata": {
    "collapsed": true
   },
   "outputs": [],
   "source": [
    "showIm(mkImpulse(size, origin, amplitude))"
   ]
  },
  {
   "cell_type": "code",
   "execution_count": null,
   "metadata": {
    "collapsed": true
   },
   "outputs": [],
   "source": [
    "showIm(mkR(size, exponent, origin))"
   ]
  },
  {
   "cell_type": "code",
   "execution_count": null,
   "metadata": {
    "collapsed": true
   },
   "outputs": [],
   "source": [
    "showIm(mkAngle(size, direction))"
   ]
  },
  {
   "cell_type": "code",
   "execution_count": null,
   "metadata": {
    "collapsed": true
   },
   "outputs": [],
   "source": [
    "showIm(mkDisc(size, size/4, origin, twidth))"
   ]
  },
  {
   "cell_type": "code",
   "execution_count": null,
   "metadata": {
    "collapsed": true
   },
   "outputs": [],
   "source": [
    "showIm(mkGaussian(size, (size/6)^2, origin, amplitude)) # try various covariances"
   ]
  },
  {
   "cell_type": "code",
   "execution_count": null,
   "metadata": {
    "collapsed": true
   },
   "outputs": [],
   "source": [
    "showIm(mkZonePlate(size, amplitude, phase))"
   ]
  },
  {
   "cell_type": "code",
   "execution_count": null,
   "metadata": {
    "collapsed": true
   },
   "outputs": [],
   "source": [
    "showIm(mkAngularSine(size, 3, amplitude, phase, origin))"
   ]
  },
  {
   "cell_type": "code",
   "execution_count": null,
   "metadata": {
    "collapsed": true
   },
   "outputs": [],
   "source": [
    "showIm(mkSine(size, period, direction, amplitude, phase, origin))"
   ]
  },
  {
   "cell_type": "code",
   "execution_count": null,
   "metadata": {
    "collapsed": true
   },
   "outputs": [],
   "source": [
    "showIm(mkSquare(size, period, direction, amplitude, phase, origin, twidth))"
   ]
  },
  {
   "cell_type": "code",
   "execution_count": null,
   "metadata": {
    "collapsed": true
   },
   "outputs": [],
   "source": [
    "showIm(mkFract(size, exponent))"
   ]
  },
  {
   "cell_type": "markdown",
   "metadata": {},
   "source": [
    "Point operations (lookup tables):\n",
    "\n",
    "## TODO"
   ]
  },
  {
   "cell_type": "code",
   "execution_count": null,
   "metadata": {
    "collapsed": true
   },
   "outputs": [],
   "source": [
    "[Xtbl,Ytbl] = rcosFn(20, 25, [-1 1])\n",
    "plt.plot(Xtbl,Ytbl)"
   ]
  },
  {
   "cell_type": "code",
   "execution_count": null,
   "metadata": {
    "collapsed": true
   },
   "outputs": [],
   "source": [
    "showIm(pointOp(mkR(100,1,[70,30]), Ytbl, Xtbl(1), Xtbl(2)-Xtbl(1), 0))"
   ]
  },
  {
   "cell_type": "markdown",
   "metadata": {},
   "source": [
    "histogram Modification/matching:"
   ]
  },
  {
   "cell_type": "code",
   "execution_count": null,
   "metadata": {
    "collapsed": true
   },
   "outputs": [],
   "source": [
    "[N,X] = histo(im, 150);\n",
    "[mn, mx] = range2(im);\n",
    "matched = histoMatch(rand(size(im)), N, X);\n",
    "showIm(im + sqrt(-1)*matched);\n",
    "[Nm,Xm] = histo(matched,150);\n",
    "nextFig(2,1);\n",
    "  subplot(1,2,1); plot(X,N); axis([mn mx 0 max(N)]);\n",
    "  subplot(1,2,2);  plot(Xm,Nm); axis([mn mx 0 max(N)]);\n",
    "nextFig(2,-1);"
   ]
  },
  {
   "cell_type": "markdown",
   "metadata": {},
   "source": [
    "Convolution routines:\n",
    "Compare speed of convolution/downsampling routines:"
   ]
  },
  {
   "cell_type": "code",
   "execution_count": null,
   "metadata": {
    "collapsed": true
   },
   "outputs": [],
   "source": [
    "noise = rand(400); filt = rand(10)"
   ]
  },
  {
   "cell_type": "code",
   "execution_count": null,
   "metadata": {
    "collapsed": true
   },
   "outputs": [],
   "source": [
    "%%timeit\n",
    "res1 = corrDn(noise,filt(10:-1:1,10:-1:1),'reflect1',[2 2])"
   ]
  },
  {
   "cell_type": "code",
   "execution_count": null,
   "metadata": {
    "collapsed": true
   },
   "outputs": [],
   "source": [
    "%%timeit\n",
    "ires = rconv2(noise,filt); res2 = ires(1:2:400,1:2:400)"
   ]
  },
  {
   "cell_type": "code",
   "execution_count": null,
   "metadata": {
    "collapsed": true
   },
   "outputs": [],
   "source": [
    "imStats(res1,res2)"
   ]
  },
  {
   "cell_type": "markdown",
   "metadata": {},
   "source": [
    "Display image and extension of left and top boundaries:"
   ]
  },
  {
   "cell_type": "code",
   "execution_count": null,
   "metadata": {
    "collapsed": true
   },
   "outputs": [],
   "source": [
    "fsz = [9, 9]\n",
    "fmid = ceil((fsz+1)/2)\n",
    "imsz = [16, 16]\n",
    "\n",
    "# pick one:\n",
    "im = eye(imsz)\n",
    "im = mkRamp(imsz,pi/6)\n",
    "im = mkSquare(imsz,6,pi/6)\n",
    "\n",
    "# pick one:\n",
    "edges='reflect1'\n",
    "edges='reflect2'\n",
    "edges='repeat'\n",
    "edges='extend'\n",
    "edges='zero'\n",
    "edges='circular'\n",
    "edges='dont-compute'\n",
    "\n",
    "filt = mkImpulse(fsz,[1 1])\n",
    "showIm(corrDn(im,filt,edges))\n",
    "line([0,0,imsz(2),imsz(2),0]+fmid(2)-0.5, ...\n",
    "     [0,imsz(1),imsz(1),0,0]+fmid(1)-0.5)\n",
    "title(sprintf('Edges = %s',edges))"
   ]
  }
 ],
 "metadata": {
  "kernelspec": {
   "display_name": "Python 3",
   "language": "python",
   "name": "python3"
  },
  "language_info": {
   "codemirror_mode": {
    "name": "ipython",
    "version": 3
   },
   "file_extension": ".py",
   "mimetype": "text/x-python",
   "name": "python",
   "nbconvert_exporter": "python",
   "pygments_lexer": "ipython3",
   "version": "3.6.3"
  }
 },
 "nbformat": 4,
 "nbformat_minor": 2
}
